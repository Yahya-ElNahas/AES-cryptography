{
 "cells": [
  {
   "cell_type": "code",
   "execution_count": null,
   "metadata": {},
   "outputs": [
    {
     "ename": "",
     "evalue": "",
     "output_type": "error",
     "traceback": [
      "\u001b[1;31mRunning cells with 'Python 3.9.13' requires the ipykernel package.\n",
      "\u001b[1;31mRun the following command to install 'ipykernel' into the Python environment. \n",
      "\u001b[1;31mCommand: 'c:/Users/Karas/AppData/Local/Programs/Python/Python39/python.exe -m pip install ipykernel -U --user --force-reinstall'"
     ]
    }
   ],
   "source": [
    "#method generateIC takes a list of cosets as an inputs and returns the IC for these cosets\n",
    "def generateIC(coset):\n",
    "    cosetIC = 0\n",
    "    for c in coset:\n",
    "        c = c.lower()\n",
    "        count = [0]*26\n",
    "        n = 0\n",
    "        for i in range(0, len(c)):\n",
    "            val = ord(c[i]) - ord('a')\n",
    "            if(val >= 0 and val <= 25):\n",
    "                count[val] = count[val] + 1\n",
    "                n += 1\n",
    "        total = 0.0\n",
    "        for i in range(0, len(count)):\n",
    "            total += count[i] * (count[i]-1)\n",
    "        total = total/(n*(n-1))\n",
    "        cosetIC += total\n",
    "    cosetIC = cosetIC/len(coset)\n",
    "    return cosetIC"
   ]
  },
  {
   "cell_type": "code",
   "execution_count": null,
   "metadata": {},
   "outputs": [
    {
     "ename": "",
     "evalue": "",
     "output_type": "error",
     "traceback": [
      "\u001b[1;31mRunning cells with 'Python 3.9.13' requires the ipykernel package.\n",
      "\u001b[1;31mRun the following command to install 'ipykernel' into the Python environment. \n",
      "\u001b[1;31mCommand: 'c:/Users/Karas/AppData/Local/Programs/Python/Python39/python.exe -m pip install ipykernel -U --user --force-reinstall'"
     ]
    }
   ],
   "source": [
    "def crack(cipher):\n",
    "    # TODO: implementation here\n",
    "    # Assume that the max key size is 10\n",
    "    # This method should output the most probable key length for the cipher given\n",
    "    # Refer to the Keyword Length Estimation with Index of Coincidence from here: https://pages.mtu.edu/~shene/NSF-4/Tutorial/VIG/Vig-IOC-Len.html\n",
    "    max = 0 \n",
    "    length = 0\n",
    "    for i in range(1, 11):\n",
    "        coset = genCosetList(cipher, i)\n",
    "        avg = generateIC(coset)\n",
    "        if avg > max:\n",
    "            max = avg\n",
    "            length = i\n",
    "    return length\n",
    "\n",
    "def genCosetList(word, l):\n",
    "    res = []\n",
    "    for i in range(0, l):\n",
    "        res.append(genCoset(word, l, i))\n",
    "    return res\n",
    "\n",
    "def genCoset(word, l, start):\n",
    "    i = start\n",
    "    res = ''\n",
    "    while i < len(word):\n",
    "        res += word[i]\n",
    "        i += l\n",
    "    return res"
   ]
  },
  {
   "cell_type": "code",
   "execution_count": null,
   "metadata": {},
   "outputs": [
    {
     "ename": "",
     "evalue": "",
     "output_type": "error",
     "traceback": [
      "\u001b[1;31mRunning cells with 'Python 3.9.13' requires the ipykernel package.\n",
      "\u001b[1;31mRun the following command to install 'ipykernel' into the Python environment. \n",
      "\u001b[1;31mCommand: 'c:/Users/Karas/AppData/Local/Programs/Python/Python39/python.exe -m pip install ipykernel -U --user --force-reinstall'"
     ]
    }
   ],
   "source": [
    "s0 = \"RSTCSJLSLRSLFELGWLFIISIKRMGL\"\n",
    "s1 = \"OICPWZXZEVLGCLNFSYPGALPXWZJTEGALPCSIIWDHOIECCBFWPAHOPCGALPCCBROASNWTYHOIDBIHVPSCSIDEVLSYPGDLZDSLXSTBNWOTTMICPBAPJEVLCLCSUSEQCUHZQFBPPDOUHESSFLLGSUSCPGWINETVVESSZXLEIZUFZMVYNLBXYZESALPXRPWLRFLIHTHOXSPANPZCWMCZCJPPTQMALPXOISFEHOIZYZFXSTBNCZFQHRYZHKSTDWNRZCSALPXPLGLFGLXSPMJLLYULXSTBNWESSFTFDVALPSITEYCOJIQZFDECOOUHHSWSIDZALQLJGLIESSTEDEVLGCLNFSYPGDIDPSNIYTIZFPNOBWPEVLTPZDSIHSCHVPNFHDJPBVYRSHVXSTBRXSPMJEYNVHRRPHOIHZFSHLCSALPZBLWHSCKS\"\n",
    "s2 = \"VVVXSQWPSNJMUMJOKKLGFQAVEXAHWRVTMFXVVRKAJTVMFLOPHYWJDSTXKAGFVVTPHKYEPPJOKPSWACJVSIGGVOLXLVMQPVCMGOGMFLAKENVRMIUAKTKVHIXCFJZRAHWFHLIUMHCIRFWGFOETIUNEQVJWEHOSJWVQFYWKYMPGQHWISOPKHYFYV\"\n",
    "key_length = crack(s0)\n",
    "print(key_length)"
   ]
  }
 ],
 "metadata": {
  "kernelspec": {
   "display_name": "Python 3",
   "language": "python",
   "name": "python3"
  },
  "language_info": {
   "name": "python",
   "version": "3.9.13"
  }
 },
 "nbformat": 4,
 "nbformat_minor": 2
}
